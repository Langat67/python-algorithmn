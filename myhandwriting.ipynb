{
  "nbformat": 4,
  "nbformat_minor": 0,
  "metadata": {
    "colab": {
      "name": "Untitled",
      "provenance": [],
      "collapsed_sections": [],
      "authorship_tag": "ABX9TyN5J6Ej4JGUKnIiairI+OT9",
      "include_colab_link": true
    },
    "kernelspec": {
      "name": "python3",
      "display_name": "Python 3"
    },
    "language_info": {
      "name": "python"
    },
    "accelerator": "GPU"
  },
  "cells": [
    {
      "cell_type": "markdown",
      "metadata": {
        "id": "view-in-github",
        "colab_type": "text"
      },
      "source": [
        "<a href=\"https://colab.research.google.com/github/Langat67/python-algorithmn/blob/main/myhandwriting.ipynb\" target=\"_parent\"><img src=\"https://colab.research.google.com/assets/colab-badge.svg\" alt=\"Open In Colab\"/></a>"
      ]
    },
    {
      "cell_type": "code",
      "metadata": {
        "id": "AuMGRD3pyubC"
      },
      "source": [
        "import keras\n",
        "from keras.datasets import mnist\n",
        "from keras.models import Sequential\n",
        "from keras.layers import Dense, Dropout, Flatten\n",
        "from keras.layers import Conv2D, MaxPooling2D\n",
        "from keras import backend as K\n",
        "import tensorflow.keras.utils\n",
        "from tensorflow.keras.utils import to_categorical\n",
        "import tensorflow.keras\n",
        "from tensorflow.keras import optimizers"
      ],
      "execution_count": 10,
      "outputs": []
    },
    {
      "cell_type": "code",
      "metadata": {
        "colab": {
          "base_uri": "https://localhost:8080/"
        },
        "id": "oY6Rh36GznF_",
        "outputId": "00e49342-f165-420c-fc55-5b069692914a"
      },
      "source": [
        "(x_train, y_train), (x_test, y_test) = mnist.load_data()\n"
      ],
      "execution_count": 2,
      "outputs": [
        {
          "output_type": "stream",
          "name": "stdout",
          "text": [
            "Downloading data from https://storage.googleapis.com/tensorflow/tf-keras-datasets/mnist.npz\n",
            "11493376/11490434 [==============================] - 0s 0us/step\n",
            "11501568/11490434 [==============================] - 0s 0us/step\n"
          ]
        }
      ]
    },
    {
      "cell_type": "code",
      "metadata": {
        "id": "32k6IiaSzvED"
      },
      "source": [
        "num_of_trainImgs = x_train.shape[0] #60000 here\n",
        "num_of_testImgs = x_test.shape[0] #10000 here\n",
        "img_width = 28\n",
        "img_height = 28\n",
        " \n",
        "x_train = x_train.reshape(x_train.shape[0], img_height, img_width, 1)\n",
        "x_test = x_test.reshape(x_test.shape[0], img_height, img_width, 1)\n",
        "input_shape = (img_height, img_width, 1)\n",
        " \n",
        "x_train = x_train.astype('float32')\n",
        "x_test = x_test.astype('float32')\n",
        "x_train /= 255\n",
        "x_test /= 255"
      ],
      "execution_count": 3,
      "outputs": []
    },
    {
      "cell_type": "code",
      "metadata": {
        "id": "VLZ5jt3NzyBM"
      },
      "source": [
        "num_classes = 10\n",
        "y_train = to_categorical(y_train, num_classes)\n",
        "y_test = to_categorical(y_test, num_classes)"
      ],
      "execution_count": 6,
      "outputs": []
    },
    {
      "cell_type": "code",
      "metadata": {
        "id": "ZYM4pAvT0Xil"
      },
      "source": [
        "model = Sequential()\n",
        "model.add(Conv2D(32, kernel_size=(3, 3),\n",
        "                 activation='relu',\n",
        "                 input_shape=input_shape))\n",
        "model.add(Conv2D(64, (3, 3), activation='relu'))\n",
        "model.add(MaxPooling2D(pool_size=(2, 2)))\n",
        "model.add(Dropout(0.25))\n",
        "model.add(Flatten())\n",
        "model.add(Dense(128, activation='relu'))\n",
        "model.add(Dropout(0.5))\n",
        "model.add(Dense(num_classes, activation='softmax'))"
      ],
      "execution_count": 7,
      "outputs": []
    },
    {
      "cell_type": "code",
      "metadata": {
        "id": "897Xau5t0dS7"
      },
      "source": [
        "model.compile(loss=keras.losses.categorical_crossentropy,\n",
        "              optimizer=optimizers.Adadelta(),\n",
        "              metrics=['accuracy'])"
      ],
      "execution_count": 11,
      "outputs": []
    },
    {
      "cell_type": "code",
      "metadata": {
        "colab": {
          "base_uri": "https://localhost:8080/"
        },
        "id": "QRoy9eVh1JrX",
        "outputId": "6378e4c6-1e24-4860-93ea-fc1337e85513"
      },
      "source": [
        "model.fit(x_train, y_train,\n",
        "          batch_size=128,\n",
        "          epochs=12,\n",
        "          verbose=1,\n",
        "          validation_data=(x_test, y_test))"
      ],
      "execution_count": 12,
      "outputs": [
        {
          "output_type": "stream",
          "name": "stdout",
          "text": [
            "Epoch 1/12\n",
            "469/469 [==============================] - 39s 16ms/step - loss: 2.2865 - accuracy: 0.1321 - val_loss: 2.2577 - val_accuracy: 0.2720\n",
            "Epoch 2/12\n",
            "469/469 [==============================] - 7s 15ms/step - loss: 2.2420 - accuracy: 0.2123 - val_loss: 2.2034 - val_accuracy: 0.3790\n",
            "Epoch 3/12\n",
            "469/469 [==============================] - 7s 15ms/step - loss: 2.1852 - accuracy: 0.3005 - val_loss: 2.1310 - val_accuracy: 0.4982\n",
            "Epoch 4/12\n",
            "469/469 [==============================] - 7s 15ms/step - loss: 2.1083 - accuracy: 0.3860 - val_loss: 2.0328 - val_accuracy: 0.6022\n",
            "Epoch 5/12\n",
            "469/469 [==============================] - 7s 16ms/step - loss: 2.0047 - accuracy: 0.4611 - val_loss: 1.9014 - val_accuracy: 0.6677\n",
            "Epoch 6/12\n",
            "469/469 [==============================] - 7s 15ms/step - loss: 1.8732 - accuracy: 0.5199 - val_loss: 1.7332 - val_accuracy: 0.7211\n",
            "Epoch 7/12\n",
            "469/469 [==============================] - 7s 15ms/step - loss: 1.7103 - accuracy: 0.5717 - val_loss: 1.5317 - val_accuracy: 0.7558\n",
            "Epoch 8/12\n",
            "469/469 [==============================] - 7s 15ms/step - loss: 1.5355 - accuracy: 0.6086 - val_loss: 1.3246 - val_accuracy: 0.7795\n",
            "Epoch 9/12\n",
            "469/469 [==============================] - 7s 15ms/step - loss: 1.3707 - accuracy: 0.6377 - val_loss: 1.1404 - val_accuracy: 0.7935\n",
            "Epoch 10/12\n",
            "469/469 [==============================] - 7s 15ms/step - loss: 1.2379 - accuracy: 0.6590 - val_loss: 0.9924 - val_accuracy: 0.8043\n",
            "Epoch 11/12\n",
            "469/469 [==============================] - 7s 15ms/step - loss: 1.1218 - accuracy: 0.6809 - val_loss: 0.8774 - val_accuracy: 0.8156\n",
            "Epoch 12/12\n",
            "469/469 [==============================] - 7s 15ms/step - loss: 1.0382 - accuracy: 0.6964 - val_loss: 0.7901 - val_accuracy: 0.8255\n"
          ]
        },
        {
          "output_type": "execute_result",
          "data": {
            "text/plain": [
              "<keras.callbacks.History at 0x7f48c0557b50>"
            ]
          },
          "metadata": {},
          "execution_count": 12
        }
      ]
    },
    {
      "cell_type": "code",
      "metadata": {
        "colab": {
          "base_uri": "https://localhost:8080/"
        },
        "id": "gLOdPBLd4Eyf",
        "outputId": "6bed3fca-3253-481e-a2c8-23b12e16ff66"
      },
      "source": [
        "score = model.evaluate(x_test, y_test, verbose=0)\n",
        "print('Test loss:', score[0])\n",
        "print('Test accuracy:', score[1])"
      ],
      "execution_count": 13,
      "outputs": [
        {
          "output_type": "stream",
          "name": "stdout",
          "text": [
            "Test loss: 0.7900591492652893\n",
            "Test accuracy: 0.8255000114440918\n"
          ]
        }
      ]
    },
    {
      "cell_type": "code",
      "metadata": {
        "id": "O5QnFzH-4h3P"
      },
      "source": [
        "model.save('trained_model.h5')\n"
      ],
      "execution_count": 14,
      "outputs": []
    },
    {
      "cell_type": "code",
      "metadata": {
        "id": "p8a4acYQ4qx8"
      },
      "source": [
        ""
      ],
      "execution_count": null,
      "outputs": []
    }
  ]
}